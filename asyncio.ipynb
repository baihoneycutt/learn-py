{
  "nbformat": 4,
  "nbformat_minor": 0,
  "metadata": {
    "colab": {
      "provenance": [],
      "authorship_tag": "ABX9TyMfr3FdY3OqbdtfYRnalAp0",
      "include_colab_link": true
    },
    "kernelspec": {
      "name": "python3",
      "display_name": "Python 3"
    },
    "language_info": {
      "name": "python"
    }
  },
  "cells": [
    {
      "cell_type": "markdown",
      "metadata": {
        "id": "view-in-github",
        "colab_type": "text"
      },
      "source": [
        "<a href=\"https://colab.research.google.com/github/baihoneycutt/learn-py/blob/main/asyncio.ipynb\" target=\"_parent\"><img src=\"https://colab.research.google.com/assets/colab-badge.svg\" alt=\"Open In Colab\"/></a>"
      ]
    },
    {
      "cell_type": "markdown",
      "source": [
        "# Section 1 Syntax and Native Coroutines\n",
        "A coroutine is a specialized version of a Python `generator` function.\n",
        "> A coroutine can suspend its execution before reaching return"
      ],
      "metadata": {
        "id": "jSaF4RuPGO_7"
      }
    },
    {
      "cell_type": "code",
      "source": [
        "import asyncio # use asyncio\n",
        "async def c():\n",
        "    print(f\"Start...\")\n",
        "    await asyncio.sleep(1)\n",
        "    print(f\"End...\")\n",
        "async def main():\n",
        "    await asyncio.gather(c(),c(),c(),c())\n",
        "if __name__ == \"__main__\":\n",
        "    import time\n",
        "    s = time.perf_counter()\n",
        "    await main() # asyncio.run(main()) # only for standalone\n",
        "    elapsed = time.perf_counter() - s\n",
        "    print(f\"{__name__} executed in {elapsed:4f} seconds.\") "
      ],
      "metadata": {
        "colab": {
          "base_uri": "https://localhost:8080/"
        },
        "id": "vSCeA6NtJOc3",
        "outputId": "a6bf5bb9-5887-4d55-d635-29d26129a7ed"
      },
      "execution_count": 9,
      "outputs": [
        {
          "output_type": "stream",
          "name": "stdout",
          "text": [
            "Start...\n",
            "Start...\n",
            "Start...\n",
            "Start...\n",
            "End...\n",
            "End...\n",
            "End...\n",
            "End...\n",
            "__main__ executed in 1.003738 seconds.\n"
          ]
        }
      ]
    },
    {
      "cell_type": "code",
      "source": [
        "def c():\n",
        "    print(f\"Start...\")\n",
        "    time.sleep(1) # Note: can't just await for asyncio, c() is **NOT** async\n",
        "    print(f\"End...\")\n",
        "def main():\n",
        "    for _ in range(4):\n",
        "        c()\n",
        "if __name__ == \"__main__\":\n",
        "    import time\n",
        "    s = time.perf_counter()\n",
        "    main()\n",
        "    elapsed = time.perf_counter() - s\n",
        "    print(f\"{__name__} executed in {elapsed:4f} seconds.\") "
      ],
      "metadata": {
        "colab": {
          "base_uri": "https://localhost:8080/"
        },
        "id": "xfVoMYqJLZqR",
        "outputId": "3be3da5e-9762-4058-e77b-0e100fb04011"
      },
      "execution_count": 12,
      "outputs": [
        {
          "output_type": "stream",
          "name": "stdout",
          "text": [
            "Start...\n",
            "End...\n",
            "Start...\n",
            "End...\n",
            "Start...\n",
            "End...\n",
            "Start...\n",
            "End...\n",
            "__main__ executed in 4.007882 seconds.\n"
          ]
        }
      ]
    },
    {
      "cell_type": "markdown",
      "source": [
        "- `async def` results in a **native coroutine** or an **asynchronous generator** (`async with` and `async for` are valid as well).\n",
        "- `await` hands function control over the event loop (*by suspending the associated `surrounding` coroutine*). \n",
        "> **To Clarify:** <br>\n",
        "\\- If an *`await f()`* is encountered within the scope of *`g()`*, the execution of `g()` is suspended till the result of `f()` is returned. <br>\n",
        "\\- Something else meanwhile runs\n",
        "```python\n",
        "async def g():\n",
        "    \\# Pause and back to g() when f() is ready\n",
        "    await f()\n",
        "    return r\n",
        "```"
      ],
      "metadata": {
        "id": "_pNBtckANcB8"
      }
    },
    {
      "cell_type": "code",
      "source": [
        "import asyncio\n",
        "import random\n",
        "c = (\n",
        "    \"\\033[0m\",   # End of color\n",
        "    \"\\033[36m\",  # Cyan\n",
        "    \"\\033[91m\",  # Red\n",
        "    \"\\033[35m\",  # Magenta\n",
        ") # ANSI colors\n",
        "async def makerandom(idx: int, threshold: int = 6) -> int:\n",
        "    print(c[idx + 1] + f\"Initiated makerandom({idx}).\")\n",
        "    i = random.randint(0, 10)\n",
        "    while i <= threshold:\n",
        "        print(c[idx + 1] + f\"makerandom({idx}) == {i} too low; retrying.\")\n",
        "        await asyncio.sleep(idx + 1)\n",
        "        i = random.randint(0, 10)\n",
        "    print(c[idx + 1] + f\"---> Finished: makerandom({idx}) == {i}\" + c[0])\n",
        "    return i\n",
        "\n",
        "async def main():\n",
        "    res = await asyncio.gather(*(makerandom(i, 10 - i - 1) for i in range(3)))\n",
        "    return res\n",
        "\n",
        "if __name__ == \"__main__\":\n",
        "    random.seed(444)\n",
        "    r1, r2, r3 = await main() # r1, r2, r3 = asyncio.run(main())\n",
        "    print()\n",
        "    print(f\"r1: {r1}, r2: {r2}, r3: {r3}\")"
      ],
      "metadata": {
        "colab": {
          "base_uri": "https://localhost:8080/"
        },
        "id": "8hKt27FCWDEO",
        "outputId": "3d623b25-8644-43e3-b179-78389aba58ce"
      },
      "execution_count": 18,
      "outputs": [
        {
          "output_type": "stream",
          "name": "stdout",
          "text": [
            "\u001b[36mInitiated makerandom(0).\n",
            "\u001b[36mmakerandom(0) == 4 too low; retrying.\n",
            "\u001b[91mInitiated makerandom(1).\n",
            "\u001b[91mmakerandom(1) == 4 too low; retrying.\n",
            "\u001b[35mInitiated makerandom(2).\n",
            "\u001b[35mmakerandom(2) == 0 too low; retrying.\n",
            "\u001b[36mmakerandom(0) == 4 too low; retrying.\n",
            "\u001b[91mmakerandom(1) == 7 too low; retrying.\n",
            "\u001b[36mmakerandom(0) == 4 too low; retrying.\n",
            "\u001b[35mmakerandom(2) == 4 too low; retrying.\n",
            "\u001b[36mmakerandom(0) == 8 too low; retrying.\n",
            "\u001b[91m---> Finished: makerandom(1) == 10\u001b[0m\n",
            "\u001b[36mmakerandom(0) == 7 too low; retrying.\n",
            "\u001b[36mmakerandom(0) == 8 too low; retrying.\n",
            "\u001b[35mmakerandom(2) == 4 too low; retrying.\n",
            "\u001b[36mmakerandom(0) == 7 too low; retrying.\n",
            "\u001b[36mmakerandom(0) == 1 too low; retrying.\n",
            "\u001b[36mmakerandom(0) == 6 too low; retrying.\n",
            "\u001b[35m---> Finished: makerandom(2) == 9\u001b[0m\n",
            "\u001b[36mmakerandom(0) == 3 too low; retrying.\n",
            "\u001b[36mmakerandom(0) == 9 too low; retrying.\n",
            "\u001b[36mmakerandom(0) == 7 too low; retrying.\n",
            "\u001b[36m---> Finished: makerandom(0) == 10\u001b[0m\n",
            "\n",
            "r1: 10, r2: 10, r3: 9\n"
          ]
        }
      ]
    },
    {
      "cell_type": "code",
      "source": [
        "print (u\"\\u001b[40m A \\u001b[41m B \\u001b[42m C \\u001b[43m D \\u001b[0m\")\n",
        "print (u\"\\u001b[44m A \\u001b[45m B \\u001b[46m C \\u001b[47m D \\u001b[0m\")\n",
        "print (u\"\\u001b[40;1m A \\u001b[41;1m B \\u001b[42;1m C \\u001b[43;1m D \\u001b[0m\")\n",
        "print (u\"\\u001b[44;1m A \\u001b[45;1m B \\u001b[46;1m C \\u001b[47;1m D \\u001b[0m\")"
      ],
      "metadata": {
        "colab": {
          "base_uri": "https://localhost:8080/"
        },
        "id": "Dvfc_9LEYDhb",
        "outputId": "36266c2e-ff59-40cd-d897-b587a209e0ee"
      },
      "execution_count": 21,
      "outputs": [
        {
          "output_type": "stream",
          "name": "stdout",
          "text": [
            "\u001b[40m A \u001b[41m B \u001b[42m C \u001b[43m D \u001b[0m\n",
            "\u001b[44m A \u001b[45m B \u001b[46m C \u001b[47m D \u001b[0m\n",
            "\u001b[40;1m A \u001b[41;1m B \u001b[42;1m C \u001b[43;1m D \u001b[0m\n",
            "\u001b[44;1m A \u001b[45;1m B \u001b[46;1m C \u001b[47;1m D \u001b[0m\n"
          ]
        }
      ]
    },
    {
      "cell_type": "code",
      "source": [
        "import sys\n",
        "for i in range(0, 16):\n",
        "    for j in range(0, 16):\n",
        "        code = str(i * 16 + j)\n",
        "        sys.stdout.write(u\"\\u001b[48;5;\" + code + \"m \" + code.ljust(4))\n",
        "    print (u\"\\u001b[0m\")"
      ],
      "metadata": {
        "colab": {
          "base_uri": "https://localhost:8080/"
        },
        "id": "zZiypBcgYTtx",
        "outputId": "130a0e07-fa57-4aa8-f54e-94234e6dc9fc"
      },
      "execution_count": 22,
      "outputs": [
        {
          "output_type": "stream",
          "name": "stdout",
          "text": [
            "\u001b[48;5;0m 0   \u001b[48;5;1m 1   \u001b[48;5;2m 2   \u001b[48;5;3m 3   \u001b[48;5;4m 4   \u001b[48;5;5m 5   \u001b[48;5;6m 6   \u001b[48;5;7m 7   \u001b[48;5;8m 8   \u001b[48;5;9m 9   \u001b[48;5;10m 10  \u001b[48;5;11m 11  \u001b[48;5;12m 12  \u001b[48;5;13m 13  \u001b[48;5;14m 14  \u001b[48;5;15m 15  \u001b[0m\n",
            "\u001b[48;5;16m 16  \u001b[48;5;17m 17  \u001b[48;5;18m 18  \u001b[48;5;19m 19  \u001b[48;5;20m 20  \u001b[48;5;21m 21  \u001b[48;5;22m 22  \u001b[48;5;23m 23  \u001b[48;5;24m 24  \u001b[48;5;25m 25  \u001b[48;5;26m 26  \u001b[48;5;27m 27  \u001b[48;5;28m 28  \u001b[48;5;29m 29  \u001b[48;5;30m 30  \u001b[48;5;31m 31  \u001b[0m\n",
            "\u001b[48;5;32m 32  \u001b[48;5;33m 33  \u001b[48;5;34m 34  \u001b[48;5;35m 35  \u001b[48;5;36m 36  \u001b[48;5;37m 37  \u001b[48;5;38m 38  \u001b[48;5;39m 39  \u001b[48;5;40m 40  \u001b[48;5;41m 41  \u001b[48;5;42m 42  \u001b[48;5;43m 43  \u001b[48;5;44m 44  \u001b[48;5;45m 45  \u001b[48;5;46m 46  \u001b[48;5;47m 47  \u001b[0m\n",
            "\u001b[48;5;48m 48  \u001b[48;5;49m 49  \u001b[48;5;50m 50  \u001b[48;5;51m 51  \u001b[48;5;52m 52  \u001b[48;5;53m 53  \u001b[48;5;54m 54  \u001b[48;5;55m 55  \u001b[48;5;56m 56  \u001b[48;5;57m 57  \u001b[48;5;58m 58  \u001b[48;5;59m 59  \u001b[48;5;60m 60  \u001b[48;5;61m 61  \u001b[48;5;62m 62  \u001b[48;5;63m 63  \u001b[0m\n",
            "\u001b[48;5;64m 64  \u001b[48;5;65m 65  \u001b[48;5;66m 66  \u001b[48;5;67m 67  \u001b[48;5;68m 68  \u001b[48;5;69m 69  \u001b[48;5;70m 70  \u001b[48;5;71m 71  \u001b[48;5;72m 72  \u001b[48;5;73m 73  \u001b[48;5;74m 74  \u001b[48;5;75m 75  \u001b[48;5;76m 76  \u001b[48;5;77m 77  \u001b[48;5;78m 78  \u001b[48;5;79m 79  \u001b[0m\n",
            "\u001b[48;5;80m 80  \u001b[48;5;81m 81  \u001b[48;5;82m 82  \u001b[48;5;83m 83  \u001b[48;5;84m 84  \u001b[48;5;85m 85  \u001b[48;5;86m 86  \u001b[48;5;87m 87  \u001b[48;5;88m 88  \u001b[48;5;89m 89  \u001b[48;5;90m 90  \u001b[48;5;91m 91  \u001b[48;5;92m 92  \u001b[48;5;93m 93  \u001b[48;5;94m 94  \u001b[48;5;95m 95  \u001b[0m\n",
            "\u001b[48;5;96m 96  \u001b[48;5;97m 97  \u001b[48;5;98m 98  \u001b[48;5;99m 99  \u001b[48;5;100m 100 \u001b[48;5;101m 101 \u001b[48;5;102m 102 \u001b[48;5;103m 103 \u001b[48;5;104m 104 \u001b[48;5;105m 105 \u001b[48;5;106m 106 \u001b[48;5;107m 107 \u001b[48;5;108m 108 \u001b[48;5;109m 109 \u001b[48;5;110m 110 \u001b[48;5;111m 111 \u001b[0m\n",
            "\u001b[48;5;112m 112 \u001b[48;5;113m 113 \u001b[48;5;114m 114 \u001b[48;5;115m 115 \u001b[48;5;116m 116 \u001b[48;5;117m 117 \u001b[48;5;118m 118 \u001b[48;5;119m 119 \u001b[48;5;120m 120 \u001b[48;5;121m 121 \u001b[48;5;122m 122 \u001b[48;5;123m 123 \u001b[48;5;124m 124 \u001b[48;5;125m 125 \u001b[48;5;126m 126 \u001b[48;5;127m 127 \u001b[0m\n",
            "\u001b[48;5;128m 128 \u001b[48;5;129m 129 \u001b[48;5;130m 130 \u001b[48;5;131m 131 \u001b[48;5;132m 132 \u001b[48;5;133m 133 \u001b[48;5;134m 134 \u001b[48;5;135m 135 \u001b[48;5;136m 136 \u001b[48;5;137m 137 \u001b[48;5;138m 138 \u001b[48;5;139m 139 \u001b[48;5;140m 140 \u001b[48;5;141m 141 \u001b[48;5;142m 142 \u001b[48;5;143m 143 \u001b[0m\n",
            "\u001b[48;5;144m 144 \u001b[48;5;145m 145 \u001b[48;5;146m 146 \u001b[48;5;147m 147 \u001b[48;5;148m 148 \u001b[48;5;149m 149 \u001b[48;5;150m 150 \u001b[48;5;151m 151 \u001b[48;5;152m 152 \u001b[48;5;153m 153 \u001b[48;5;154m 154 \u001b[48;5;155m 155 \u001b[48;5;156m 156 \u001b[48;5;157m 157 \u001b[48;5;158m 158 \u001b[48;5;159m 159 \u001b[0m\n",
            "\u001b[48;5;160m 160 \u001b[48;5;161m 161 \u001b[48;5;162m 162 \u001b[48;5;163m 163 \u001b[48;5;164m 164 \u001b[48;5;165m 165 \u001b[48;5;166m 166 \u001b[48;5;167m 167 \u001b[48;5;168m 168 \u001b[48;5;169m 169 \u001b[48;5;170m 170 \u001b[48;5;171m 171 \u001b[48;5;172m 172 \u001b[48;5;173m 173 \u001b[48;5;174m 174 \u001b[48;5;175m 175 \u001b[0m\n",
            "\u001b[48;5;176m 176 \u001b[48;5;177m 177 \u001b[48;5;178m 178 \u001b[48;5;179m 179 \u001b[48;5;180m 180 \u001b[48;5;181m 181 \u001b[48;5;182m 182 \u001b[48;5;183m 183 \u001b[48;5;184m 184 \u001b[48;5;185m 185 \u001b[48;5;186m 186 \u001b[48;5;187m 187 \u001b[48;5;188m 188 \u001b[48;5;189m 189 \u001b[48;5;190m 190 \u001b[48;5;191m 191 \u001b[0m\n",
            "\u001b[48;5;192m 192 \u001b[48;5;193m 193 \u001b[48;5;194m 194 \u001b[48;5;195m 195 \u001b[48;5;196m 196 \u001b[48;5;197m 197 \u001b[48;5;198m 198 \u001b[48;5;199m 199 \u001b[48;5;200m 200 \u001b[48;5;201m 201 \u001b[48;5;202m 202 \u001b[48;5;203m 203 \u001b[48;5;204m 204 \u001b[48;5;205m 205 \u001b[48;5;206m 206 \u001b[48;5;207m 207 \u001b[0m\n",
            "\u001b[48;5;208m 208 \u001b[48;5;209m 209 \u001b[48;5;210m 210 \u001b[48;5;211m 211 \u001b[48;5;212m 212 \u001b[48;5;213m 213 \u001b[48;5;214m 214 \u001b[48;5;215m 215 \u001b[48;5;216m 216 \u001b[48;5;217m 217 \u001b[48;5;218m 218 \u001b[48;5;219m 219 \u001b[48;5;220m 220 \u001b[48;5;221m 221 \u001b[48;5;222m 222 \u001b[48;5;223m 223 \u001b[0m\n",
            "\u001b[48;5;224m 224 \u001b[48;5;225m 225 \u001b[48;5;226m 226 \u001b[48;5;227m 227 \u001b[48;5;228m 228 \u001b[48;5;229m 229 \u001b[48;5;230m 230 \u001b[48;5;231m 231 \u001b[48;5;232m 232 \u001b[48;5;233m 233 \u001b[48;5;234m 234 \u001b[48;5;235m 235 \u001b[48;5;236m 236 \u001b[48;5;237m 237 \u001b[48;5;238m 238 \u001b[48;5;239m 239 \u001b[0m\n",
            "\u001b[48;5;240m 240 \u001b[48;5;241m 241 \u001b[48;5;242m 242 \u001b[48;5;243m 243 \u001b[48;5;244m 244 \u001b[48;5;245m 245 \u001b[48;5;246m 246 \u001b[48;5;247m 247 \u001b[48;5;248m 248 \u001b[48;5;249m 249 \u001b[48;5;250m 250 \u001b[48;5;251m 251 \u001b[48;5;252m 252 \u001b[48;5;253m 253 \u001b[48;5;254m 254 \u001b[48;5;255m 255 \u001b[0m\n"
          ]
        }
      ]
    },
    {
      "cell_type": "code",
      "source": [
        "print(\"\\033[35m\"f\"test\")"
      ],
      "metadata": {
        "colab": {
          "base_uri": "https://localhost:8080/"
        },
        "id": "51CXeUqGaCRt",
        "outputId": "9f8b7d49-6d56-46e7-d28c-ce5c77b5748c"
      },
      "execution_count": 36,
      "outputs": [
        {
          "output_type": "stream",
          "name": "stdout",
          "text": [
            "\u001b[35mtest\n"
          ]
        }
      ]
    },
    {
      "cell_type": "markdown",
      "source": [
        "# Async IO patterns\n",
        "## Chaining Corroutines\n",
        "A coroutine object is awaitable, so another coroutine can `await` -> smaller manageable recyclable ....."
      ],
      "metadata": {
        "id": "PMr7kMmgVbNd"
      }
    },
    {
      "cell_type": "code",
      "source": [
        "import asyncio\n",
        "import random\n",
        "import time\n",
        "\n",
        "async def part1(n: int) -> str:\n",
        "    i = random.randint(0, 10)\n",
        "    print(f\"part1({n}) sleeping for {i} seconds.\")\n",
        "    await asyncio.sleep(i)\n",
        "    result = f\"result{n}-1\"\n",
        "    print(f\"Returning part1({n}) == {result}.\")\n",
        "    return result\n",
        "\n",
        "async def part2(n: int, arg: str) -> str:\n",
        "    i = random.randint(0, 10)\n",
        "    print(f\"part2{n, arg} sleeping for {i} seconds.\")\n",
        "    await asyncio.sleep(i)\n",
        "    result = f\"result{n}-2 derived from {arg}\"\n",
        "    print(f\"Returning part2({n, arg}) == {result}.\")\n",
        "    return result\n",
        "\n",
        "async def chain(n: int) -> None:\n",
        "    start = time.perf_counter()\n",
        "    p1 = await part1(n)\n",
        "    p2 = await part2(n, p1)\n",
        "    end = time.perf_counter() - start\n",
        "    print(f\"-->Chained result{n} => {p2} (took {end} seconds).\")\n",
        "\n",
        "async def main(*args):\n",
        "    await asyncio.gather(*(chain(n) for n in args))\n",
        "\n",
        "if __name__ == \"__main__\":\n",
        "    import sys\n",
        "    random.seed(444)\n",
        "    args = [1, 2, 3] if len(sys.argv) == 1 else map(int, sys.argv[1:])\n",
        "    start = time.perf_counter()\n",
        "    asyncio.run(main(*args))\n",
        "    end = time.perf_counter() - start\n",
        "    print(f\"Program finished in {end} seconds.\")"
      ],
      "metadata": {
        "id": "aGk9b6qqaB0M"
      },
      "execution_count": null,
      "outputs": []
    },
    {
      "cell_type": "code",
      "source": [
        "import asyncio\n",
        "import itertools as it\n",
        "import os\n",
        "import random\n",
        "import time\n",
        "\n",
        "async def makeitem(size: int = 5) -> str:\n",
        "    return os.urandom(size).hex()\n",
        "\n",
        "async def randsleep(caller=None) -> None:\n",
        "    i = random.randint(0, 10)\n",
        "    if caller:\n",
        "        print(f\"{caller} sleeping for {i} seconds.\")\n",
        "    await asyncio.sleep(i)\n",
        "\n",
        "async def produce(name: int, q: asyncio.Queue) -> None:\n",
        "    n = random.randint(0, 10)\n",
        "    for _ in it.repeat(None, n):  # Synchronous loop for each single producer\n",
        "        await randsleep(caller=f\"Producer {name}\")\n",
        "        i = await makeitem()\n",
        "        t = time.perf_counter()\n",
        "        await q.put((i, t))\n",
        "        print(f\"Producer {name} added <{i}> to queue.\")\n",
        "\n",
        "async def consume(name: int, q: asyncio.Queue) -> None:\n",
        "    while True:\n",
        "        await randsleep(caller=f\"Consumer {name}\")\n",
        "        i, t = await q.get()\n",
        "        now = time.perf_counter()\n",
        "        print(f\"Consumer {name} got element <{i}>\"\n",
        "              f\" in {now-t:0.5f} seconds.\")\n",
        "        q.task_done()\n",
        "\n",
        "async def main(nprod: int, ncon: int):\n",
        "    q = asyncio.Queue()\n",
        "    producers = [asyncio.create_task(produce(n, q)) for n in range(nprod)]\n",
        "    consumers = [asyncio.create_task(consume(n, q)) for n in range(ncon)]\n",
        "    await asyncio.gather(*producers)\n",
        "    await q.join()  # Implicitly awaits consumers, too\n",
        "    for c in consumers:\n",
        "        c.cancel()\n",
        "\n",
        "if __name__ == \"__main__\":\n",
        "    import argparse\n",
        "    random.seed(444)\n",
        "    parser = argparse.ArgumentParser()\n",
        "    parser.add_argument(\"-p\", \"--nprod\", type=int, default=5)\n",
        "    parser.add_argument(\"-c\", \"--ncon\", type=int, default=10)\n",
        "    ns = parser.parse_args()\n",
        "    start = time.perf_counter()\n",
        "    asyncio.run(main(**ns.__dict__))\n",
        "    elapsed = time.perf_counter() - start\n",
        "    print(f\"Program completed in {elapsed:0.5f} seconds.\")"
      ],
      "metadata": {
        "colab": {
          "base_uri": "https://localhost:8080/",
          "height": 183
        },
        "id": "IF0YAQnJV24p",
        "outputId": "d48a3ae4-c78f-4173-9d01-08a006d8f380"
      },
      "execution_count": 2,
      "outputs": [
        {
          "output_type": "stream",
          "name": "stderr",
          "text": [
            "usage: ipykernel_launcher.py [-h] [-p NPROD] [-c NCON]\n",
            "ipykernel_launcher.py: error: unrecognized arguments: -f /root/.local/share/jupyter/runtime/kernel-437d860e-0ba0-4d31-af12-aca038a72b98.json\n"
          ]
        },
        {
          "output_type": "error",
          "ename": "SystemExit",
          "evalue": "ignored",
          "traceback": [
            "An exception has occurred, use %tb to see the full traceback.\n",
            "\u001b[0;31mSystemExit\u001b[0m\u001b[0;31m:\u001b[0m 2\n"
          ]
        },
        {
          "output_type": "stream",
          "name": "stderr",
          "text": [
            "/usr/local/lib/python3.7/dist-packages/IPython/core/interactiveshell.py:3334: UserWarning: To exit: use 'exit', 'quit', or Ctrl-D.\n",
            "  warn(\"To exit: use 'exit', 'quit', or Ctrl-D.\", stacklevel=1)\n"
          ]
        }
      ]
    },
    {
      "cell_type": "code",
      "source": [],
      "metadata": {
        "id": "2_UiLUEzaBB1"
      },
      "execution_count": null,
      "outputs": []
    },
    {
      "cell_type": "code",
      "source": [],
      "metadata": {
        "id": "EiKK0fgBWCMI"
      },
      "execution_count": null,
      "outputs": []
    },
    {
      "cell_type": "code",
      "source": [
        "loop = asyncio.get_event_loop()"
      ],
      "metadata": {
        "id": "AXrb8lK6QnYr"
      },
      "execution_count": 13,
      "outputs": []
    }
  ]
}